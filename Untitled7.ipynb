{
  "nbformat": 4,
  "nbformat_minor": 0,
  "metadata": {
    "colab": {
      "provenance": [],
      "authorship_tag": "ABX9TyPB+QSwr7Ohh0ewasvHDroj",
      "include_colab_link": true
    },
    "kernelspec": {
      "name": "python3",
      "display_name": "Python 3"
    },
    "language_info": {
      "name": "python"
    }
  },
  "cells": [
    {
      "cell_type": "markdown",
      "metadata": {
        "id": "view-in-github",
        "colab_type": "text"
      },
      "source": [
        "<a href=\"https://colab.research.google.com/github/Mounikabethi12/AIML-2196/blob/main/Untitled7.ipynb\" target=\"_parent\"><img src=\"https://colab.research.google.com/assets/colab-badge.svg\" alt=\"Open In Colab\"/></a>"
      ]
    },
    {
      "cell_type": "code",
      "execution_count": null,
      "metadata": {
        "colab": {
          "base_uri": "https://localhost:8080/",
          "height": 507
        },
        "id": "U5naMDnKQO5D",
        "outputId": "11c20752-1232-40ba-f03c-fa0a2bf4425b"
      },
      "outputs": [
        {
          "output_type": "stream",
          "name": "stdout",
          "text": [
            "Density values: [0.31720856 0.11895321 0.03965107 0.         0.03965107]\n",
            "Bins: [ 1.3   3.24  5.18  7.12  9.06 11.  ]\n"
          ]
        },
        {
          "output_type": "display_data",
          "data": {
            "text/plain": [
              "<Figure size 640x480 with 1 Axes>"
            ],
            "image/png": "[encoded data removed]"
          },
          "metadata": {}
        }
      ],
      "source": [
        "import numpy as np\n",
        "import matplotlib.pyplot as plt\n",
        "\n",
        "data = np.array([1.3, 1.5, 2.6, 2.6, 3.2, 3.9, 4.2, 3.7, 3.10, 3.0, 11, 6.7, 1.9])\n",
        "\n",
        "n, bins, patches = plt.hist(data, bins=5, density=True, alpha=0.6, color='black')\n",
        "print(\"Density values:\", n)\n",
        "print(\"Bins:\", bins)\n",
        "\n",
        "plt.xlabel('Value')\n",
        "plt.ylabel('Density')\n",
        "plt.title('Histogram of the dataset')\n",
        "plt.show()\n"
      ]
    },
    {
      "cell_type": "code",
      "source": [
        "import pandas as pd\n",
        "import numpy as np\n",
        "from scipy import stats\n",
        "\n",
        "# Data\n",
        "X = [12, 13, 56, 23, 41, 28]\n",
        "Y = [51, 63, 37, 88, 33, 72, 81]\n",
        "\n",
        "X_series = pd.Series(X)\n",
        "Y_series = pd.Series(Y)\n",
        "\n",
        "\n",
        "X_mean = X_series.mean()\n",
        "X_median = X_series.median()\n",
        "X_mode = X_series.mode().values\n",
        "X_variance = X_series.var()\n",
        "X_std_dev = X_series.std()\n",
        "X_range = X_series.max() - X_series.min()\n",
        "X_iqr = X_series.quantile(0.75) - X_series.quantile(0.25)\n",
        "X_skewness = X_series.skew()\n",
        "X_kurtosis = X_series.kurtosis()\n",
        "\n",
        "Y_mean = Y_series.mean()\n",
        "Y_median = Y_series.median()\n",
        "Y_mode = Y_series.mode().values\n",
        "Y_variance = Y_series.var()\n",
        "Y_std_dev = Y_series.std()\n",
        "Y_range = Y_series.max() - Y_series.min()\n",
        "Y_iqr = Y_series.quantile(0.75) - Y_series.quantile(0.25)\n",
        "Y_skewness = Y_series.skew()\n",
        "Y_kurtosis = Y_series.kurtosis()\n",
        "\n",
        "# Print results\n",
        "print(f\"X - Mean: {X_mean}, Median: {X_median}, Mode: {X_mode}, Variance: {X_variance}, Standard Deviation: {X_std_dev}, Range: {X_range}, IQR: {X_iqr}, Skewness: {X_skewness}, Kurtosis: {X_kurtosis}\")\n",
        "print(f\"Y - Mean: {Y_mean}, Median: {Y_median}, Mode: {Y_mode}, Variance: {Y_variance}, Standard Deviation: {Y_std_dev}, Range: {Y_range}, IQR: {Y_iqr}, Skewness: {Y_skewness}, Kurtosis: {Y_kurtosis}\")"
      ],
      "metadata": {
        "colab": {
          "base_uri": "https://localhost:8080/"
        },
        "id": "ab_R5fblRCvY",
        "outputId": "c6129527-c238-4ffe-f923-addd1110b0f4"
      },
      "execution_count": null,
      "outputs": [
        {
          "output_type": "stream",
          "name": "stdout",
          "text": [
            "X - Mean: 28.833333333333332, Median: 25.5, Mode: [12 13 23 28 41 56], Variance: 290.96666666666664, Standard Deviation: 17.057745063948712, Range: 44, IQR: 22.25, Skewness: 0.7804855421881245, Kurtosis: -0.3721549429709299\n",
            "Y - Mean: 60.714285714285715, Median: 63.0, Mode: [33 37 51 63 72 81 88], Variance: 452.23809523809524, Standard Deviation: 21.265890417240826, Range: 55, IQR: 32.5, Skewness: -0.13169496617475043, Kurtosis: -1.6236709987134375\n"
          ]
        }
      ]
    },
    {
      "cell_type": "code",
      "source": [
        "import pandas as pd\n",
        "from scipy import stats\n",
        "\n",
        "\n",
        "x = pd.Series([12, 13, 56, 23, 41, 28, 51])\n",
        "y = pd.Series([51, 63, 37, 88, 33, 72, 81])\n",
        "\n",
        "def compute_statistics(series):\n",
        "    mean = series.mean()\n",
        "    median = series.median()\n",
        "    mode = series.mode().values\n",
        "    variance = series.var()\n",
        "    std_dev = series.std()\n",
        "    data_range = series.max() - series.min()\n",
        "    iqr = series.quantile(0.75) - series.quantile(0.25)\n",
        "    skewness = series.skew()\n",
        "    kurtosis = series.kurtosis()\n",
        "\n",
        "    return {\n",
        "        'Mean': mean,\n",
        "        'Median': median,\n",
        "        'Mode': mode,\n",
        "        'Variance': variance,\n",
        "        'Standard Deviation': std_dev,\n",
        "        'Range': data_range,\n",
        "        'Interquartile Range (IQR)': iqr,\n",
        "        'Skewness': skewness,\n",
        "        'Kurtosis': kurtosis\n",
        "    }\n",
        "\n",
        "\n",
        "x_stats = compute_statistics(x)\n",
        "y_stats = compute_statistics(y)\n",
        "\n",
        "print('Statistics for X:')\n",
        "for key, value in x_stats.items():\n",
        "    print(f'{key}: {value}')\n",
        "\n",
        "print('\\nStatistics for Y:')\n",
        "for key, value in y_stats.items():\n",
        "    print(f'{key}: {value}')"
      ],
      "metadata": {
        "colab": {
          "base_uri": "https://localhost:8080/"
        },
        "id": "CghKhKqaSU-C",
        "outputId": "2a8f689d-dd3a-4b80-bd92-2fc748107684"
      },
      "execution_count": null,
      "outputs": [
        {
          "output_type": "stream",
          "name": "stdout",
          "text": [
            "Statistics for X:\n",
            "Mean: 32.0\n",
            "Median: 28.0\n",
            "Mode: [12 13 23 28 41 51 56]\n",
            "Variance: 312.6666666666667\n",
            "Standard Deviation: 17.682382946499793\n",
            "Range: 44\n",
            "Interquartile Range (IQR): 28.0\n",
            "Skewness: 0.24309548524609076\n",
            "Kurtosis: -1.7444165101995357\n",
            "\n",
            "Statistics for Y:\n",
            "Mean: 60.714285714285715\n",
            "Median: 63.0\n",
            "Mode: [33 37 51 63 72 81 88]\n",
            "Variance: 452.23809523809524\n",
            "Standard Deviation: 21.265890417240826\n",
            "Range: 55\n",
            "Interquartile Range (IQR): 32.5\n",
            "Skewness: -0.13169496617475043\n",
            "Kurtosis: -1.6236709987134375\n"
          ]
        }
      ]
    }
  ]
}